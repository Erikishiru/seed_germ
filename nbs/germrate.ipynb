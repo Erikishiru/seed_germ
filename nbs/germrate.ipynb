{
 "cells": [
  {
   "cell_type": "code",
   "execution_count": 1,
   "metadata": {},
   "outputs": [
    {
     "data": {
      "text/plain": [
       "['/home/erikishiru/anaconda3/envs/cv/lib/python36.zip',\n",
       " '/home/erikishiru/anaconda3/envs/cv/lib/python3.6',\n",
       " '/home/erikishiru/anaconda3/envs/cv/lib/python3.6/lib-dynload',\n",
       " '',\n",
       " '/home/erikishiru/anaconda3/envs/cv/lib/python3.6/site-packages',\n",
       " '/home/erikishiru/anaconda3/envs/cv/lib/python3.6/site-packages/IPython/extensions',\n",
       " '/home/erikishiru/.ipython']"
      ]
     },
     "execution_count": 1,
     "metadata": {},
     "output_type": "execute_result"
    }
   ],
   "source": [
    "import sys \n",
    "sys.executable \n",
    "sys.path"
   ]
  },
  {
   "cell_type": "code",
   "execution_count": null,
   "metadata": {},
   "outputs": [],
   "source": []
  }
 ],
 "metadata": {
  "kernelspec": {
   "display_name": "Python 3",
   "language": "python",
   "name": "python3"
  },
  "language_info": {
   "codemirror_mode": {
    "name": "ipython",
    "version": 3
   },
   "file_extension": ".py",
   "mimetype": "text/x-python",
   "name": "python",
   "nbconvert_exporter": "python",
   "pygments_lexer": "ipython3",
   "version": "3.6.9"
  }
 },
 "nbformat": 4,
 "nbformat_minor": 2
}
